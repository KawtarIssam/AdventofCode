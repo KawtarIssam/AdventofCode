{
 "cells": [
  {
   "cell_type": "code",
   "execution_count": 1,
   "metadata": {},
   "outputs": [
    {
     "name": "stdout",
     "output_type": "stream",
     "text": [
      "The result of the multiplications of all mul(x,y) in the file is: 167090022\n"
     ]
    }
   ],
   "source": [
    "import re\n",
    "\n",
    "result = 0\n",
    "\n",
    "with open(\"input3.txt\", \"r\") as file:\n",
    "    for line in file:\n",
    "        matches = re.findall(r\"mul\\((\\d+),(\\d+)\\)\", line)  # Find all matches in the line\n",
    "        for match in matches:\n",
    "            x, y = map(int, match)  \n",
    "            result += x * y  \n",
    "\n",
    "# Print the final result\n",
    "print(\"The result of the multiplications of all mul(x,y) in the file is:\", result)\n",
    "\n"
   ]
  },
  {
   "cell_type": "code",
   "execution_count": null,
   "metadata": {},
   "outputs": [
    {
     "name": "stdout",
     "output_type": "stream",
     "text": [
      "The result of the multiplications of all mul(x,y) in the file is: 89823704\n"
     ]
    }
   ],
   "source": [
    "\n",
    "\n",
    "import re\n",
    "\n",
    "# Regex to match valid `mul(x,y)` patterns\n",
    "mul_pattern = r\"mul\\((\\d+),(\\d+)\\)\"\n",
    "# Regex to match `do()` or `don't()`\n",
    "toggle_pattern = r\"(do\\(\\)|don't\\(\\))\"\n",
    "\n",
    "result = 0\n",
    "can_multiply = True  #cosidering tre expressions before a do or don't\n",
    "\n",
    "with open(\"input3.txt\", \"r\") as file:\n",
    "    for line in file:\n",
    "       \n",
    "        \n",
    "\n",
    "        #finding do, don't and mul(x,y)\n",
    "        tokens = re.findall(f\"{toggle_pattern}|{mul_pattern}\", line)\n",
    "        for token in tokens:\n",
    "            if token[0]:  \n",
    "                if token[0] == \"don't()\":\n",
    "                    can_multiply = False  # Disable multiplication\n",
    "                elif token[0] == \"do()\":\n",
    "                    can_multiply = True  # Enable multiplication\n",
    "\n",
    "            elif token[1] and token[2]:  \n",
    "                if can_multiply:\n",
    "                    x = int(token[1])  # Extract the first number\n",
    "                    y = int(token[2])  # Extract the second number\n",
    "                    result += x * y  \n",
    "\n",
    "print(\"The result of the multiplications of all mul(x,y) in the file is:\", result)\n",
    "\n"
   ]
  }
 ],
 "metadata": {
  "kernelspec": {
   "display_name": "Python 3",
   "language": "python",
   "name": "python3"
  },
  "language_info": {
   "codemirror_mode": {
    "name": "ipython",
    "version": 3
   },
   "file_extension": ".py",
   "mimetype": "text/x-python",
   "name": "python",
   "nbconvert_exporter": "python",
   "pygments_lexer": "ipython3",
   "version": "3.9.6"
  }
 },
 "nbformat": 4,
 "nbformat_minor": 2
}
