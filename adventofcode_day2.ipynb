{
 "cells": [
  {
   "cell_type": "code",
   "execution_count": 2,
   "metadata": {},
   "outputs": [
    {
     "name": "stdout",
     "output_type": "stream",
     "text": [
      "The number of lists with strictly increasing or decreasing numbers by 1, 2, or 3 is: 359\n"
     ]
    }
   ],
   "source": [
    "# Open the file in read mode\n",
    "count = 0\n",
    "with open(\"input.txt\", \"r\") as file:\n",
    "    for line_number, line in enumerate(file):\n",
    "        # Split the line into numbers and convert to integers\n",
    "        numbers = list(map(int, line.split()))\n",
    "        \n",
    "        # Skip if the list has less than 2 numbers\n",
    "        \n",
    "        \n",
    "        # Determine if the list is strictly increasing or decreasing\n",
    "        is_increasing = all(numbers[i+1] - numbers[i] in [1, 2, 3] for i in range(len(numbers) - 1))\n",
    "        is_decreasing = all(numbers[i] - numbers[i+1] in [1, 2, 3] for i in range(len(numbers) - 1))\n",
    "        \n",
    "        if is_increasing or is_decreasing:\n",
    "            count += 1\n",
    "    \n",
    "print(\"The number of lists with strictly increasing or decreasing numbers by 1, 2, or 3 is:\", count)\n",
    "\n",
    "\n"
   ]
  },
  {
   "cell_type": "code",
   "execution_count": null,
   "metadata": {},
   "outputs": [
    {
     "name": "stdout",
     "output_type": "stream",
     "text": [
      "The number of lists that are safe or can be made safe by removing one number is: 418\n"
     ]
    }
   ],
   "source": [
    "# Open the file in read mode\n",
    "count = 0\n",
    "with open(\"input.txt\", \"r\") as file:\n",
    "    for line_number, line in enumerate(file):\n",
    "        # Split the line into numbers and convert to integers\n",
    "        numbers = list(map(int, line.split()))\n",
    "        \n",
    "        # Skip if the list has less than 2 numbers\n",
    "        \n",
    "        def is_safe(lst):\n",
    "            \"\"\"Check if the list is strictly increasing or decreasing by 1, 2, or 3.\"\"\"\n",
    "            is_increasing = all(lst[i+1] - lst[i] in [1, 2, 3] for i in range(len(lst) - 1))\n",
    "            is_decreasing = all(lst[i] - lst[i+1] in [1, 2, 3] for i in range(len(lst) - 1))\n",
    "            return is_increasing or is_decreasing\n",
    "\n",
    "        # Check if the list is already safe\n",
    "        if is_safe(numbers):\n",
    "            count += 1\n",
    "            continue\n",
    "\n",
    "        # Check if removing a single number makes it safe\n",
    "        safe = False\n",
    "        for i in range(len(numbers)):\n",
    "            temp_list = numbers[:i] + numbers[i+1:]  # Remove the i-th number\n",
    "            if is_safe(temp_list):\n",
    "                safe = True\n",
    "                break\n",
    "        \n",
    "        if safe:\n",
    "            count += 1\n",
    "\n",
    "print(\"The number of lists that are safe or can be made safe by removing one number is:\", count)\n"
   ]
  }
 ],
 "metadata": {
  "kernelspec": {
   "display_name": "Python 3",
   "language": "python",
   "name": "python3"
  },
  "language_info": {
   "codemirror_mode": {
    "name": "ipython",
    "version": 3
   },
   "file_extension": ".py",
   "mimetype": "text/x-python",
   "name": "python",
   "nbconvert_exporter": "python",
   "pygments_lexer": "ipython3",
   "version": "3.9.6"
  }
 },
 "nbformat": 4,
 "nbformat_minor": 2
}
